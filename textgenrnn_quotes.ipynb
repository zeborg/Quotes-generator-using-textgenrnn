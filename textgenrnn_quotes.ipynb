{
  "nbformat": 4,
  "nbformat_minor": 0,
  "metadata": {
    "colab": {
      "name": "textgenrnn_quotes",
      "provenance": []
    },
    "kernelspec": {
      "name": "python3",
      "display_name": "Python 3"
    }
  },
  "cells": [
    {
      "cell_type": "code",
      "metadata": {
        "id": "Zyt_HUOxOAiu",
        "colab_type": "code",
        "colab": {}
      },
      "source": [
        "!pip install -q textgenrnn"
      ],
      "execution_count": 0,
      "outputs": []
    },
    {
      "cell_type": "code",
      "metadata": {
        "id": "yKabHHACPTQh",
        "colab_type": "code",
        "colab": {
          "base_uri": "https://localhost:8080/",
          "height": 124
        },
        "outputId": "94238139-42fd-4fad-d0a0-f0fe1cf9a7a7"
      },
      "source": [
        "%tensorflow_version 1.x\n",
        "from textgenrnn import textgenrnn\n",
        "textgen = textgenrnn()"
      ],
      "execution_count": 1,
      "outputs": [
        {
          "output_type": "stream",
          "text": [
            "TensorFlow 1.x selected.\n"
          ],
          "name": "stdout"
        },
        {
          "output_type": "stream",
          "text": [
            "Using TensorFlow backend.\n"
          ],
          "name": "stderr"
        },
        {
          "output_type": "stream",
          "text": [
            "WARNING:tensorflow:From /tensorflow-1.15.2/python3.6/tensorflow_core/python/ops/resource_variable_ops.py:1630: calling BaseResourceVariable.__init__ (from tensorflow.python.ops.resource_variable_ops) with constraint is deprecated and will be removed in a future version.\n",
            "Instructions for updating:\n",
            "If using Keras pass *_constraint arguments to layers.\n"
          ],
          "name": "stdout"
        }
      ]
    },
    {
      "cell_type": "code",
      "metadata": {
        "id": "zEBuD8HJPTWh",
        "colab_type": "code",
        "colab": {
          "base_uri": "https://localhost:8080/",
          "height": 593
        },
        "outputId": "a9cfb9bd-03bc-49d1-9e8c-8e5d1a0a1301"
      },
      "source": [
        "textgen.train_from_file('/content/quotes_all.csv',\n",
        "                        num_epochs=1,\n",
        "                        is_csv=True,\n",
        "                        new_model=True,\n",
        "                        max_length=20,\n",
        "                        max_words=10000,\n",
        "                        rnn_size=128,\n",
        "                        rnn_layers=4,\n",
        "                        train_size=0.8,\n",
        "                        dropout=0.2)"
      ],
      "execution_count": 6,
      "outputs": [
        {
          "output_type": "stream",
          "text": [
            "75,965 texts collected.\n",
            "Training new model w/ 4-layer, 128-cell LSTMs\n",
            "Training on 5,116,429 character sequences.\n",
            "Epoch 1/1\n",
            "39972/39972 [==============================] - 14190s 355ms/step - loss: 1.4758 - val_loss: 1.3155\n",
            "####################\n",
            "Temperature: 0.2\n",
            "####################\n",
            "The start of the soul of the strength of the start of the success and the sention of the part of the start of the start of the strange of the world. There are a great sense of the sense of the pressure of the strange of the start of the failure of the high schools and the strength of the first tim\n",
            "\n",
            "I don't think they are a condertation of the strength of the price of the morning that the price of the pressure that people are a soul of the morning that have a great experience of the sense of the people and the pressure of the faith in the world. It is a strange thing that is the price of the \n",
            "\n",
            "The enemy of the morning that the songs of the age of the concentration of a person that the most people and the price of the price of the world. I have a great enemy that is the most problems of the price of the failure of the most important things that the problem of the world and the same thing\n",
            "\n",
            "####################\n",
            "Temperature: 0.5\n",
            "####################\n",
            "There is a successful in a common for the advertising that material concessiving to the forgive pressful and every soul in a thing that there's a sense of the age of the success of a sound to take a pressure thing to come to you to make my life that when to say that is the pressiviling thing in th\n",
            "\n",
            "I am a moment of the pression between the lives.;Vith Crank;food\n",
            "\n",
            "I don't think you have to love a lot of politics.;Sing Care;education\n",
            "\n",
            "####################\n",
            "Temperature: 1.0\n",
            "####################\n",
            "Creish after kinds of being through forcesful lifely\n",
            "\n",
            " s tasker out of buildinguture and any greenece and ugly\n",
            "\n",
            "I cannot be live in all with the wronger gave a smy\n",
            "\n"
          ],
          "name": "stdout"
        }
      ]
    },
    {
      "cell_type": "code",
      "metadata": {
        "id": "GFTDdz4WXMwy",
        "colab_type": "code",
        "colab": {
          "base_uri": "https://localhost:8080/",
          "height": 1000
        },
        "outputId": "922a8501-98f3-47a1-996e-06ac2784d15b"
      },
      "source": [
        "textgen.generate(50)"
      ],
      "execution_count": 8,
      "outputs": [
        {
          "output_type": "stream",
          "text": [
            "In promise both of change and struggly the world men be a very soul to the save and start. But people are a struggle in the family thing that I have the price of the it and because I think about sexual in the food to early an action of the mother of the world.;Jeffen Stavies;truth\n",
            "\n",
            "I think that is the opposition.;Christinan Days;freedom\n",
            "\n",
            "I am a positive in the mother to make a start and a movie and history.;Stangres Lend;wisdom\n",
            "\n",
            "The opportunity to make care of some of the age of the study to the truth. I have the only one of the person in the way to seek a lot of grayers and a start world. There are more than this first great strength and the great single reasons and the price of the smile of the time having something tha\n",
            "\n",
            "The start of the life to end the man who are some of the faith in the world and the most person that may be a part of a brase to the world who are lost of the failure that the thing about something that you're loved.;Christ Hayward;education\n",
            "\n",
            "I don't get a value of the age\n",
            "\n",
            "I have a great doon of the students and each other success is no really many being a sense of the world and love for the failure. We are not all the great is the origining of people that I have something that I can make our conditions to be a beautiful for the beauty of people and the positive of \n",
            "\n",
            "It is the best and assettion than the language to a hope and my born and start on the Concentration that have been the love of the first truth in action that is the problem of the morning and and through the wisdom and the superience of the sense of the human time.;Jean Correy;time\n",
            "\n",
            "There is no emotional humority is a man for the heart is that they are a government business is the teacher of the morning teacher is that there is a single great relationship with a tools. And what is a little problems that I have a strength of the age and stuff that is the soul of your life has \n",
            "\n",
            "If you are some principles of a steak some material chance to science for the striveness that they are something that doesn't much painted by the same thing that is a lot of life and the action with the part of this man and know that having no real constitution of what I was a great car.;Vincian K\n",
            "\n",
            "There are one of the thing that much the most problems and healthy and the sacress that is a lot of the age and the songs and an act of a great time there is no having to many things that the person who has a lot of sexing. I have one of the of the world life that as a person who has been about th\n",
            "\n",
            "The man who is the press of painting the friends of saving beauty and concentration person who has a way to the price of the heart of some part of the people who do that the best and the opportunity to see lives and there are something that comes may see the family through the start of life is wha\n",
            "\n",
            "The fact that my soul\n",
            "\n",
            "I have a companions of the first real man and friends and have the life to making a great soul of the street that the path of the society of an investment\n",
            "\n",
            "I am a moment Israel much than to build the morning of the real person of conditional end shared a child to have to take a certain man else of the strength of a sense of the authority to the saving people in the action to go to the sad about the sense of the mothers that work on the attitude of th\n",
            "\n",
            "The most experience and the most part of some songs of a thing that have all the ordinary of the love to make single part of music companies some life has a concept of the bring dogs and fear and an experience of the movies. It is the songs and problem.;William K. H. L. Kentson;failure\n",
            "\n",
            "I'm a great religious room and more than taught the teacher.;Barbard Schoniugh;future\n",
            "\n",
            "The art of the first says that I have the thing in the world. That mates the strong people who nairt the conscious of the achievement that I have a stay of the price that life is the same thing about the sense of each other three things about my friends who are so much for a book of the world and \n",
            "\n",
            "I don't think that they are some morning that I have a great person of my faith is a lot of the failure to bring the country and the pressunt that have pretent my society is a moment here and health is that I was a woman what has a lot of the happiness is that that is that a lot of the only great \n",
            "\n",
            "I love that work with the next people try to be a show of the truth and control of the food that was a careful and some condention of his life and content of the morning that have to see the price of president is the best with the age of the part of interests and sexciples\n",
            "\n",
            "In the strength of the personal consequent insurances and some morning that success is the pression of the most thing to give the soul.;George D. Hayson;friendship\n",
            "\n",
            "I am a sense of the reason that may have a lot of the principle and the world. Well\n",
            "\n",
            "I don't think that the failure of the morning way that most small people and a man who has a greeney in the foundation of my mom monigary and end to be offer the principless of strange in the world and the moment of a career to work for the conceation\n",
            "\n",
            "I am a desire of my life and some people are a children problems and my mom would be a work of the deep and the possession.;Vincial Prince;failure\n",
            "\n",
            "Being a man has a sad for my happiness is that it taught me that I do not say that I love to deal with the real congreation of the success for people all the morning that they don't think that life is something that fear gives a number thing when I was a companion of his hope. We must not have to \n",
            "\n",
            "My mom more and a successful thing that the soul of the constitution of a star that you can do a moment and the thing about a belief and the struggle moment and being that I am not made and a lot of life and my faith in a man that the spending thing that they are all things in a greenent of the da\n",
            "\n",
            "I have a very constitution to religious for the famul great mothers are a concept of the people that I talk to success in the next thing that they may always been a disachest at the high schools and the age of the strength in a chance of the mother and the death of through the great man to be one \n",
            "\n",
            "I am like they are some of the failure of the person that I really do not be a man some lives to be a very part of the imagination. I'm not the government of a smile of a branger\n",
            "\n",
            "It is a sense of painting the saving real press than the only love of the person.;Christinake Kest;politics\n",
            "\n",
            "I'm a movie things that should be a power of the opportunity to start all the most problem.;George Singrey;auther\n",
            "\n",
            "I have a person's loves.;Charles Frank;freedom\n",
            "\n",
            "When I start to be a high structral attitude of a government of the pressure and strange to free of the person that are things in the looks and women than having the course of the strongest thing that are not a government in the first time in a friend that people are making the games and the reaso\n",
            "\n",
            "And not have a lot of him. I have three hope of success is an incredibly school.;Charles Sames;funny\n",
            "\n",
            "I don't see the life have to be a lot of this thing that I'm that around things that wants a beauty of freedom of the past person and the every person and competition and a down that have a lot of the world.;Jeffrey Choney;freedom\n",
            "\n",
            "My hope is a great thing to be a theory of the fools are so much and freedom of the age of my part in the world. I am not emit about the magic of their life with my life before an accept of the beauty in the world. But any of things are a long thing that make you can have to make a green and pursu\n",
            "\n",
            "In that have the start of my wind to emacise and still off the bring forget.;Jeffrey;mom\n",
            "\n",
            "I have a part of the old times and a country and the world in the world in the world and that was a country and the government of the stuff hope\n",
            "\n",
            "I don't have to figure the best creation of the mother in a course to make my dad was the successful children and the world is a lot of the day. I guess me the same thing to those companions and the most engiveness of people. I don't control the greatest sad and that not throw the success and hist\n",
            "\n",
            "The language of the pressure to properly something that I care to know how you can't make you to be a star that it was a shall too much and work in a great reason of here to make personal and religious morning and make the real start that we can do the first time a lot of secure and the world.;Joh\n",
            "\n",
            "I'm a problem that men to that some man is a lot of sunspaniance and sent and a common thing that the time in the morning to be the mind what moments have to see your life religious emotional scientific is the best form of politics and the Land Christmas\n",
            "\n",
            "The real success and the themselves of an instrument of the thoughts and the music of love in the exploining to green the forget of the person that make more some show and sexpair in the way to make a moment of my enemies are problems and self-real person. I have the first truth that we live and h\n",
            "\n",
            "I don't think here the same thing that would be true that the greatest truth pay to deal with herself. I do not five a course to be as you see the best about it can only come from the single understanding the sense of a relationship with something is dependent in the world. But that is a lot of se\n",
            "\n",
            "I think about an obsession of all the truth is a country who have a part of the mother's need to see it and hope that may be a concept of the principless of society and don't live a communication of something that was recognized the absolute to was a place of the stail to deal about a woman streng\n",
            "\n",
            "I'm royally big disputling and the most soul of war is that they are in the world and absolute to thing that seems to be with the course of your fear of some truth is a green that is of history and what I was the single great emotions than all the sense of the early life is a problem's friends.;Ca\n",
            "\n",
            "I have the inspire of its in a very empatest way. That is not a control that what I'm a superious and people have to program a soul of personal constant about the man who never goes to be a for the teacher of the opportunity to success in the time that the 'Soutche and the only people and my life \n",
            "\n",
            "I have the language to figure the opportunity to success.;Robert Ambellow;truth\n",
            "\n",
            "I am a lot of freedom is a government that would believe that he was a person to enjoy my real relationships. I am a great thing that has a failure of humor and the worst and doing the food as it has been a lot of a mental friends\n",
            "\n",
            "If you have to make your life is a strange strength and beauty\n",
            "\n",
            "I'm not honors and the start of the start of energy sention in the world.;John Bright;food\n",
            "\n",
            "A man is not the same and have failed in the last and something for me. I'm not a great thing that you can't be a form of past one has been born than the price of the moment of a hope and a hope of supporting of the mother and the teachers\n",
            "\n"
          ],
          "name": "stdout"
        }
      ]
    }
  ]
}